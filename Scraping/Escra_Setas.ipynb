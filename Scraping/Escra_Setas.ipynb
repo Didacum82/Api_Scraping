{
 "cells": [
  {
   "cell_type": "code",
   "execution_count": null,
   "metadata": {},
   "outputs": [],
   "source": [
    "import requests\n",
    "from bs4 import BeautifulSoup\n",
    "\n",
    "url = 'https://www.asturnatura.com/guia-hongos-setas.html'\n",
    "paxina = requests.get(url)\n",
    "soup = BeautifulSoup(paxina.content, 'html.parser')\n",
    "#print(soup.prettify())\n",
    "\n",
    "\n",
    "\n",
    "#Info do primeiro párrafo da páxina\n",
    "\n",
    "info = soup.find('div', class_='col-xs-12 col-md-10').find('p')\n",
    "print(info.text)\n",
    "\n",
    "\n",
    "\n",
    "#Info do primeiro párrafo da páxina\n",
    "\n",
    "info = soup.find('div', class_='col-xs-12 col-md-10').find('p')\n",
    "print(info.text)\n",
    "\n",
    "\n",
    "\n",
    "# Mostra todalas especies de setas\n",
    "\n",
    "setas = soup.find_all('div', class_='panel-heading')\n",
    "\n",
    "for i in setas:\n",
    "    print(i.text)\n",
    "\n",
    "\n",
    "\n",
    "\n",
    "\n",
    "# Enlaces coas fotos das setas\n",
    "fotos = soup.find_all('img', class_='img-responsive')\n",
    "for i in fotos:\n",
    "    print(i)\n",
    "\n",
    "\n",
    "\n",
    "\n",
    "#Enlaces que ten a páxina\n",
    "\n",
    "for enlace in soup.find_all('a'):\n",
    "    print(enlace.get('href'))\n",
    "\n"
   ]
  }
 ],
 "metadata": {
  "language_info": {
   "name": "plaintext"
  },
  "orig_nbformat": 4
 },
 "nbformat": 4,
 "nbformat_minor": 2
}
